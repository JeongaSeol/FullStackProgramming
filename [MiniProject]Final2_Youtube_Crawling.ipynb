{
 "cells": [
  {
   "cell_type": "markdown",
   "id": "fde509f2",
   "metadata": {},
   "source": [
    "# 유튜브 랭킹 사이트 크롤링\n",
    "\n",
    "## 유튜브 랭킹 데이터 수집\n",
    "\n",
    "### 라이브러리 추가"
   ]
  },
  {
   "cell_type": "code",
   "execution_count": 3,
   "id": "325f3c5e",
   "metadata": {},
   "outputs": [],
   "source": [
    "from selenium import webdriver\n",
    "from bs4 import BeautifulSoup\n",
    "import pandas as pd\n",
    "import time"
   ]
  },
  {
   "cell_type": "markdown",
   "id": "fa92afc1",
   "metadata": {},
   "source": [
    "### 데이터 추출"
   ]
  },
  {
   "cell_type": "markdown",
   "id": "7d464abe",
   "metadata": {},
   "source": [
    "browser = webdriver.Chrome('C:/Web_Crawling/chromedriver/chromedriver.exe')\n",
    "url = 'https://youtube-rank.com/board/bbs/board.php?bo_table=youtube'\n",
    "browser.get(url)\n",
    "\n",
    "html = browser.page_source\n",
    "soup = BeautifulSoup(html, 'html.parser')"
   ]
  },
  {
   "cell_type": "markdown",
   "id": "58960b79",
   "metadata": {},
   "source": [
    "channel_list = soup.select('form>table>tbody>tr')\n",
    "for channel in channel_list:\n",
    "    title = channel.select('h1>a')[0].text.strip()\n",
    "    category = channel.select('p.category')[0].text.strip()\n",
    "    subscriber = channel.select('.subscriber_cnt')[0].text\n",
    "    view = channel.select('.view_cnt')[0].text\n",
    "    video = channel.select('.video_cnt')[0].text\n",
    "    print(title, category, subscriber, view, video)"
   ]
  },
  {
   "cell_type": "markdown",
   "id": "bcce18ae",
   "metadata": {},
   "source": [
    "### 페이지별 URL 만들기"
   ]
  },
  {
   "cell_type": "code",
   "execution_count": 16,
   "id": "722cdebd",
   "metadata": {},
   "outputs": [
    {
     "name": "stdout",
     "output_type": "stream",
     "text": [
      "https://youtube-rank.com/board/board.php?bo_table=youtube&page=1\n"
     ]
    }
   ],
   "source": [
    "page = 1\n",
    "url = 'https://youtube-rank.com/board/board.php?bo_table=youtube&page={}'.format(page)\n",
    "print(url)"
   ]
  },
  {
   "cell_type": "code",
   "execution_count": 4,
   "id": "278f1259",
   "metadata": {},
   "outputs": [
    {
     "data": {
      "text/plain": [
       "[]"
      ]
     },
     "execution_count": 4,
     "metadata": {},
     "output_type": "execute_result"
    }
   ],
   "source": [
    "# 반복문을 이용해서 여러 페이지 크롤링\n",
    "\n",
    "browser = webdriver.Chrome('C:/Web_Crawling/chromedriver/chromedriver.exe')\n",
    "results = []\n",
    "\n",
    "for page in range (1,11):\n",
    "    url = 'https://youtube-rank.com/board/board.php?bo_table=youtube&page={}'.format(page)\n",
    "    browser.get(url)\n",
    "    time.sleep(5)\n",
    "    html = browser.page_source\n",
    "    soup = BeautifulSoup(html,'html.parser')\n",
    "    channel_list = soup.select('form>table>tbody>tr')\n",
    "    for channel in channel_list:\n",
    "        category = channel.select('p.category')[0].text.strip()\n",
    "        title = channel.select('h1>a')[0].text.strip()\n",
    "        subscriber = channel.select('.subscriber_cnt')[0].text\n",
    "        view = channel.select('.view_cnt')[0].text\n",
    "        video = channel.select('.video_cnt')[0].text\n",
    "        data = [title, category, subscriber, view, video]\n",
    "        results.append(data)\n",
    "        \n",
    "results[:5]"
   ]
  },
  {
   "cell_type": "code",
   "execution_count": null,
   "id": "cc8444e8",
   "metadata": {},
   "outputs": [],
   "source": [
    "df = pd.DataFrame(results, columns =['title','category','subscriber','view','video'])\n",
    "df.to_excel('C:/Web_Crawling/MiniProject/Youtube_Crawling.xlsx', index = False)"
   ]
  },
  {
   "cell_type": "markdown",
   "id": "ce652f69",
   "metadata": {},
   "source": [
    "## 유튜브 랭킹 데이터 시각화"
   ]
  },
  {
   "cell_type": "code",
   "execution_count": null,
   "id": "9ff41084",
   "metadata": {},
   "outputs": [],
   "source": [
    "import pandas as pd\n",
    "import matplotlib.pyplot as plt\n",
    "\n",
    "from matplotlib import font_manager, rc\n",
    "if platform.system() == 'Windows':\n",
    "    path = 'C:/Windows/Fonts/malgun.ttf'\n",
    "    font_name = font_manager.FontProperties(fname=path).get_name()\n",
    "    rc('font', family = font_name)\n",
    "elif platform.system() == 'Darwin':\n",
    "    rc('font', family='AppleGothic')\n",
    "else:\n",
    "    print('Check your OS system')"
   ]
  },
  {
   "cell_type": "code",
   "execution_count": null,
   "id": "afcfb453",
   "metadata": {},
   "outputs": [],
   "source": [
    "df = pd.read_excel('C:/Web_Crawling/MiniProject/Youtube_Crawling.xlsx')\n",
    "df.head()"
   ]
  },
  {
   "cell_type": "code",
   "execution_count": null,
   "id": "965ccec0",
   "metadata": {},
   "outputs": [],
   "source": [
    "df['subscriber'][0:10]"
   ]
  },
  {
   "cell_type": "code",
   "execution_count": null,
   "id": "a6941230",
   "metadata": {},
   "outputs": [],
   "source": [
    "df['subscriber'].str.replace('만', '0000')[0:10]"
   ]
  },
  {
   "cell_type": "markdown",
   "id": "3c6608a6",
   "metadata": {},
   "source": [
    "#### replaced_subscriber Series 문자열 변경"
   ]
  },
  {
   "cell_type": "code",
   "execution_count": null,
   "id": "b6d41f60",
   "metadata": {},
   "outputs": [],
   "source": [
    "df['repalced_subscriber'] = df['subscriber'].str.replace('만', '0000')\n",
    "df.head()"
   ]
  },
  {
   "cell_type": "code",
   "execution_count": null,
   "id": "01159a4a",
   "metadata": {},
   "outputs": [],
   "source": [
    "df.info()"
   ]
  },
  {
   "cell_type": "markdown",
   "id": "574b2d3e",
   "metadata": {},
   "source": [
    "#### Series 데이터 타입 변환"
   ]
  },
  {
   "cell_type": "code",
   "execution_count": null,
   "id": "84ee4c0f",
   "metadata": {},
   "outputs": [],
   "source": [
    "df['replaced_subscriber'] = df['replaced_subscriber'].astype('int')\n",
    "df.info()"
   ]
  },
  {
   "cell_type": "markdown",
   "id": "d77bd532",
   "metadata": {},
   "source": [
    "#### 카테고리별 구독자 수, 채널 수 피봇 테이블 생성"
   ]
  },
  {
   "cell_type": "code",
   "execution_count": null,
   "id": "6f80fbdd",
   "metadata": {},
   "outputs": [],
   "source": [
    "pivot_df = df.pivot_table(index = 'category', values = 'replaced_subscriber', aggfunc = ['sum','count'])\n",
    "pivot_df.head()"
   ]
  },
  {
   "cell_type": "code",
   "execution_count": null,
   "id": "92fb0742",
   "metadata": {},
   "outputs": [],
   "source": [
    "pivot_df.columns = ['subscriber_sum', 'category_count']\n",
    "pivot_df.head()"
   ]
  },
  {
   "cell_type": "markdown",
   "id": "f7e8a945",
   "metadata": {},
   "source": [
    "#### 인덱스 초기화"
   ]
  },
  {
   "cell_type": "code",
   "execution_count": null,
   "id": "dba3cdb5",
   "metadata": {},
   "outputs": [],
   "source": [
    "pivot_df = pivot_df.reset_index()\n",
    "pivot_df.head"
   ]
  },
  {
   "cell_type": "markdown",
   "id": "aa2a9243",
   "metadata": {},
   "source": [
    "#### 데이터프레임 내림차순 정렬"
   ]
  },
  {
   "cell_type": "code",
   "execution_count": null,
   "id": "8ae7040b",
   "metadata": {},
   "outputs": [],
   "source": [
    "pivot_df = pivot_df.sort_values(by = 'subscriber_sum', ascending=False)\n",
    "pivot_df.head()"
   ]
  },
  {
   "cell_type": "markdown",
   "id": "914aed6f",
   "metadata": {},
   "source": [
    "#### 카테고리별 구독자수 시각화"
   ]
  },
  {
   "cell_type": "code",
   "execution_count": null,
   "id": "70d24c40",
   "metadata": {},
   "outputs": [],
   "source": [
    "plt.figure(figsize = (30,10))\n",
    "plt.pie(pivot_df['subscriber_sum'], labels=pivot_df['category'], autopct='%1.1f%%')\n",
    "plt.show()"
   ]
  },
  {
   "cell_type": "markdown",
   "id": "21defa25",
   "metadata": {},
   "source": [
    "#### 카테고리별 채널수 시각화"
   ]
  },
  {
   "cell_type": "code",
   "execution_count": null,
   "id": "b458292b",
   "metadata": {},
   "outputs": [],
   "source": [
    "pivot_df = pivot_df.sort_values(by='category_count', ascending=False)\n",
    "plt.figure(figsize = (30,10))\n",
    "plt.pie(pivot_df['category_count'], labels = pivot_df['category'], autopct='%1.1f%%')\n",
    "plt.show()"
   ]
  }
 ],
 "metadata": {
  "kernelspec": {
   "display_name": "Python 3",
   "language": "python",
   "name": "python3"
  },
  "language_info": {
   "codemirror_mode": {
    "name": "ipython",
    "version": 3
   },
   "file_extension": ".py",
   "mimetype": "text/x-python",
   "name": "python",
   "nbconvert_exporter": "python",
   "pygments_lexer": "ipython3",
   "version": "3.8.8"
  }
 },
 "nbformat": 4,
 "nbformat_minor": 5
}
