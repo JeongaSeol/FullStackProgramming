{
 "cells": [
  {
   "cell_type": "markdown",
   "id": "e4263314",
   "metadata": {},
   "source": [
    "# Crawling & Scraping\n",
    "\n",
    "## 1. 웹사이트 접속\n",
    "\n",
    "### 1) 웹 사이트(Naver)에 접속하기"
   ]
  },
  {
   "cell_type": "code",
   "execution_count": 1,
   "id": "026527a6",
   "metadata": {},
   "outputs": [
    {
     "data": {
      "text/plain": [
       "True"
      ]
     },
     "execution_count": 1,
     "metadata": {},
     "output_type": "execute_result"
    }
   ],
   "source": [
    "import webbrowser\n",
    "\n",
    "url = \"www.naver.com\"\n",
    "webbrowser.open(url)"
   ]
  },
  {
   "cell_type": "markdown",
   "id": "caef987c",
   "metadata": {},
   "source": [
    "### 2) 네이버에서 특정 검색어('파이썬)를 입력해서 결과 얻기"
   ]
  },
  {
   "cell_type": "code",
   "execution_count": 3,
   "id": "c13f3ca5",
   "metadata": {},
   "outputs": [
    {
     "data": {
      "text/plain": [
       "True"
      ]
     },
     "execution_count": 3,
     "metadata": {},
     "output_type": "execute_result"
    }
   ],
   "source": [
    "naver_search_url = 'https://search.naver.com/search.naver?query='\n",
    "search_word = '파이썬'\n",
    "url = naver_search_url + search_word\n",
    "\n",
    "webbrowser.open_new(url)"
   ]
  },
  {
   "cell_type": "markdown",
   "id": "eeb9af08",
   "metadata": {},
   "source": [
    "### 2-1) 구글(google)에서도 검색을 위한 웹사이트 주소와 검색어를 \n",
    "###        연결해서 입력하면 검색 결과 출력"
   ]
  },
  {
   "cell_type": "code",
   "execution_count": 2,
   "id": "4964fe0a",
   "metadata": {},
   "outputs": [
    {
     "data": {
      "text/plain": [
       "True"
      ]
     },
     "execution_count": 2,
     "metadata": {},
     "output_type": "execute_result"
    }
   ],
   "source": [
    "import webbrowser\n",
    "\n",
    "google_url = 'www.google.com/search?q='\n",
    "search_word = 'python'\n",
    "url = google_url + search_word\n",
    "\n",
    "webbrowser.open_new(url)"
   ]
  },
  {
   "cell_type": "markdown",
   "id": "d6c9b79c",
   "metadata": {},
   "source": [
    "### 3) 여러 개의 웹 사이트 접속하기"
   ]
  },
  {
   "cell_type": "code",
   "execution_count": 3,
   "id": "afb5a8a6",
   "metadata": {},
   "outputs": [],
   "source": [
    "import webbrowser\n",
    "\n",
    "urls = ['www.naver.com', 'www.daum.net', 'www.google.com']\n",
    "\n",
    "for url in urls :\n",
    "    webbrowser.open_new(url)"
   ]
  },
  {
   "cell_type": "markdown",
   "id": "dae92a6c",
   "metadata": {},
   "source": [
    "### 4) 여러 개의 단어 검색 결과 출력"
   ]
  },
  {
   "cell_type": "code",
   "execution_count": 4,
   "id": "d44e3c2a",
   "metadata": {},
   "outputs": [],
   "source": [
    "import webbrowser\n",
    "\n",
    "google_url = 'www.google.com/search?q='\n",
    "search_words = ['python web scraping', 'python webbrowser']\n",
    "\n",
    "for search_word in search_words:\n",
    "    webbrowser.open_new(google_url + search_word)"
   ]
  },
  {
   "cell_type": "markdown",
   "id": "e97feb94",
   "metadata": {},
   "source": [
    "## 2. Web Scraping[기본]\n",
    "\n",
    "### 1) 데이터의 요청과 응답 과정\n",
    "\n",
    "####  -  HTML 생성"
   ]
  },
  {
   "cell_type": "code",
   "execution_count": 6,
   "id": "3b8b5fbb",
   "metadata": {},
   "outputs": [
    {
     "name": "stdout",
     "output_type": "stream",
     "text": [
      "Writing C:\\Web_Crawling\\HTML_example.html\n"
     ]
    }
   ],
   "source": [
    "%%writefile C:\\Web_Crawling\\HTML_example.html\n",
    "<!doctype html>\n",
    "<html>\n",
    "<head>\n",
    "<meta charset = 'utf-8'>\n",
    "<title> HTML Example </title>\n",
    "</head>\n",
    "<body>\n",
    "<h1> book information</h1>\n",
    "<p id = 'book_title'>이해가 쏙쏙 되는 파이썬</p>\n",
    "<p id = 'author'>홍길동</p>\n",
    "<p id = 'publisher'>위키북스 출판사</p>\n",
    "<p id = 'year'>2021</p>\n",
    "</body>\n",
    "</html>"
   ]
  },
  {
   "cell_type": "markdown",
   "id": "73972360",
   "metadata": {},
   "source": [
    "#### - HTML 생성2"
   ]
  },
  {
   "cell_type": "code",
   "execution_count": 11,
   "id": "b8b2de03",
   "metadata": {},
   "outputs": [
    {
     "name": "stdout",
     "output_type": "stream",
     "text": [
      "Writing C:\\Web_Crawling\\HTML-example2.html\n"
     ]
    }
   ],
   "source": [
    "%%writefile C:\\Web_Crawling\\HTML-example2.html\n",
    "<!doctype html>\n",
    "<html>\n",
    "<head>\n",
    "<meta charset = 'utf-8'>\n",
    "<title> HTML Example2 </title>\n",
    "</head>\n",
    "<body>\n",
    "<h1> Boook Information </h1>\n",
    "<p>이해가 쏙쏙 되는 파이썬 </p>\n",
    "<p>홍길동</p>\n",
    "<p>위키북스 출반사</p>\n",
    "<p>2021</p>\n",
    "</body>\n",
    "</html>"
   ]
  },
  {
   "cell_type": "markdown",
   "id": "34fadcc6",
   "metadata": {},
   "source": [
    "### 2) 웹 페이지의 HTML Source 가져오기\n",
    "\n",
    "#### - 구글 웹페이지(www.google.co.kr)의 소스코드"
   ]
  },
  {
   "cell_type": "code",
   "execution_count": 7,
   "id": "77d39744",
   "metadata": {},
   "outputs": [
    {
     "data": {
      "text/plain": [
       "<Response [200]>"
      ]
     },
     "execution_count": 7,
     "metadata": {},
     "output_type": "execute_result"
    }
   ],
   "source": [
    "import requests \n",
    "\n",
    "r = requests.get('https://www.google.co.kr')\n",
    "r"
   ]
  },
  {
   "cell_type": "markdown",
   "id": "85406723",
   "metadata": {},
   "source": [
    "#### - request 객체 잘 가져왔는지 확인(HTML 파일 내용 일부 출력해보기)"
   ]
  },
  {
   "cell_type": "code",
   "execution_count": 8,
   "id": "1b830a55",
   "metadata": {},
   "outputs": [
    {
     "data": {
      "text/plain": [
       "'<!doctype html><html itemscope=\"\" itemtype=\"http://schema.org/WebPage\" lang=\"ko\"><head><meta content'"
      ]
     },
     "execution_count": 8,
     "metadata": {},
     "output_type": "execute_result"
    }
   ],
   "source": [
    "r.text[0:100]"
   ]
  },
  {
   "cell_type": "markdown",
   "id": "a2fbedd5",
   "metadata": {},
   "source": [
    "#### - 한번에 수행(소스코드 가져와서 일부 출력해보기)"
   ]
  },
  {
   "cell_type": "code",
   "execution_count": 10,
   "id": "c0bff273",
   "metadata": {},
   "outputs": [
    {
     "data": {
      "text/plain": [
       "'<!doctype html><html itemscope=\"\" itemtype=\"http://schema.org/WebPage\" lang=\"ko\"><head><meta content'"
      ]
     },
     "execution_count": 10,
     "metadata": {},
     "output_type": "execute_result"
    }
   ],
   "source": [
    "import requests\n",
    "\n",
    "html = requests.get('https://www.google.co.kr').text\n",
    "html[0:100]"
   ]
  },
  {
   "cell_type": "markdown",
   "id": "5984471b",
   "metadata": {},
   "source": [
    "## 3. HTML 소스코드 분석 및 처리\n",
    "\n",
    "### 1) 데이터 찾고 추출하기\n",
    "\n",
    "#### - HTML 코드를 분석해 원하는 데이터를 추출하는 방법\n",
    "#### - HTML 코드를 분석하기 위해서는 코드 구문을 이해하고 요소별로 분류\n",
    "#### - Beautiful Soup 라이브러리를 이용해 HTML 소스를 파싱하고 원하는 데이터 추출"
   ]
  },
  {
   "cell_type": "code",
   "execution_count": 13,
   "id": "48a6a4e2",
   "metadata": {},
   "outputs": [
    {
     "data": {
      "text/plain": [
       "<html><body><div><span> <a href=\"http://www.naver.com\">naver</a> <a href=\"https://www.google.com\">google</a>\n",
       "<a href=\"http://www.daum.net\">daum</a> </span></div></body></html>"
      ]
     },
     "execution_count": 13,
     "metadata": {},
     "output_type": "execute_result"
    }
   ],
   "source": [
    "from bs4 import BeautifulSoup\n",
    "\n",
    "# test용 htmlzhem\n",
    "html = \"\"\"<html><body><div><span>\\\n",
    "        <a href = http://www.naver.com>naver</a>\\\n",
    "        <a href = https://www.google.com>google</a>\n",
    "        <a href = http://www.daum.net>daum</a>\\\n",
    "        </span></div></body></html>\"\"\"\n",
    "\n",
    "# Beautiful Soup을 이용해 HTML 소스 파싱\n",
    "soup = BeautifulSoup(html, 'lxml')\n",
    "soup"
   ]
  },
  {
   "cell_type": "code",
   "execution_count": 15,
   "id": "f2951404",
   "metadata": {},
   "outputs": [
    {
     "name": "stdout",
     "output_type": "stream",
     "text": [
      "<html>\n",
      " <body>\n",
      "  <div>\n",
      "   <span>\n",
      "    <a href=\"http://www.naver.com\">\n",
      "     naver\n",
      "    </a>\n",
      "    <a href=\"https://www.google.com\">\n",
      "     google\n",
      "    </a>\n",
      "    <a href=\"http://www.daum.net\">\n",
      "     daum\n",
      "    </a>\n",
      "   </span>\n",
      "  </div>\n",
      " </body>\n",
      "</html>\n"
     ]
    }
   ],
   "source": [
    "# 파싱 결과를 가독성을 높여서 HTML 구조 형태로 확인\n",
    "\n",
    "print(soup.prettify())"
   ]
  },
  {
   "cell_type": "markdown",
   "id": "b30d9a8b",
   "metadata": {},
   "source": [
    "#### - 파싱한 결과에서 BeautifulSoup.fin('태그') 수행\n",
    "#### - HTML 소스코드에서 해당 '태그'가 있는 첫 번째 요소를 찾아서 return"
   ]
  },
  {
   "cell_type": "code",
   "execution_count": 16,
   "id": "a6a635d7",
   "metadata": {},
   "outputs": [
    {
     "data": {
      "text/plain": [
       "<a href=\"http://www.naver.com\">naver</a>"
      ]
     },
     "execution_count": 16,
     "metadata": {},
     "output_type": "execute_result"
    }
   ],
   "source": [
    "soup.find('a')"
   ]
  },
  {
   "cell_type": "markdown",
   "id": "1d7ac43b",
   "metadata": {},
   "source": [
    "#### - `get_text()` :HTML 소스코드의 요소에서 태그와 속성을 제거, text 문자열 return\n",
    "#### - 원하는 HTML 요소를 가져온 후 마지막 단계에서 요소의 텍스트 부분만 추출할 때 이용"
   ]
  },
  {
   "cell_type": "code",
   "execution_count": 17,
   "id": "bd8f43cd",
   "metadata": {},
   "outputs": [
    {
     "data": {
      "text/plain": [
       "'naver'"
      ]
     },
     "execution_count": 17,
     "metadata": {},
     "output_type": "execute_result"
    }
   ],
   "source": [
    "soup.find('a').get_text()"
   ]
  },
  {
   "cell_type": "markdown",
   "id": "578f5e73",
   "metadata": {},
   "source": [
    "#### - `BeautifulSoup.find_all()`: HTML 코드 안에서 모든 해당 태그를 찾고 해당 태그로 시작하는 모든 요소를 모두 return"
   ]
  },
  {
   "cell_type": "code",
   "execution_count": 18,
   "id": "95fbad7a",
   "metadata": {},
   "outputs": [
    {
     "data": {
      "text/plain": [
       "[<a href=\"http://www.naver.com\">naver</a>,\n",
       " <a href=\"https://www.google.com\">google</a>,\n",
       " <a href=\"http://www.daum.net\">daum</a>]"
      ]
     },
     "execution_count": 18,
     "metadata": {},
     "output_type": "execute_result"
    }
   ],
   "source": [
    "soup.find_all('a')"
   ]
  },
  {
   "cell_type": "markdown",
   "id": "3021cfd0",
   "metadata": {},
   "source": [
    "#### - 태그 이름의 모든 요소를 return하는 `find_all()`의 결과는 **list**형식\n",
    "#### - for문을 이용해 항목별로 `get_text()`를 적용"
   ]
  },
  {
   "cell_type": "code",
   "execution_count": 19,
   "id": "5c4d9e1a",
   "metadata": {},
   "outputs": [
    {
     "name": "stdout",
     "output_type": "stream",
     "text": [
      "naver\n",
      "google\n",
      "daum\n"
     ]
    }
   ],
   "source": [
    "site_names = soup.find_all('a')\n",
    "for site_name in site_names :\n",
    "    print(site_name.get_text())"
   ]
  },
  {
   "cell_type": "markdown",
   "id": "7541600f",
   "metadata": {},
   "source": [
    "#### - HTML 파일을 작성한 후 html2 변수에 할당"
   ]
  },
  {
   "cell_type": "code",
   "execution_count": 20,
   "id": "ab18ea0d",
   "metadata": {},
   "outputs": [],
   "source": [
    "from bs4 import BeautifulSoup\n",
    "\n",
    "html2 = \"\"\"\n",
    "<html>\n",
    "<head>\n",
    "<title>작품과 작가 모음</title>\n",
    "</head>\n",
    "<body>\n",
    "<h1>책 정보</h1>\n",
    "<p id = 'book_title'>토지</p>\n",
    "<p id = 'author'>박경리</p>\n",
    "\n",
    "<p id = 'book_title'>태백산맥</p>\n",
    "<p id = 'author'>조정래</p>\n",
    "\n",
    "<p id = 'book_title'>감옥으로부터의 사색</p>\n",
    "<p id = 'author'>신영복</p>\n",
    "</body>\n",
    "</html>\n",
    "\"\"\"\n",
    "\n",
    "soup2 = BeautifulSoup(html2, 'lxml')"
   ]
  },
  {
   "cell_type": "markdown",
   "id": "8a2d6015",
   "metadata": {},
   "source": [
    "#### - Beautiful Soup의 다양한 기능을 활용하여 HTML 소스로부터 필요한 데이터 추출\n",
    "#### - HTML 소스에서 title 태그의 요소는 `BeautifulSoup.title`을 이용해서 가져옴"
   ]
  },
  {
   "cell_type": "code",
   "execution_count": 21,
   "id": "892e3800",
   "metadata": {},
   "outputs": [
    {
     "data": {
      "text/plain": [
       "<title>작품과 작가 모음</title>"
      ]
     },
     "execution_count": 21,
     "metadata": {},
     "output_type": "execute_result"
    }
   ],
   "source": [
    "soup2.title"
   ]
  },
  {
   "cell_type": "markdown",
   "id": "2062e0c4",
   "metadata": {},
   "source": [
    "#### - HTML 소스의 body 태그의 요소는 `BeautifulSoup.body`를 이용해서 가져옴"
   ]
  },
  {
   "cell_type": "code",
   "execution_count": 22,
   "id": "19f03ff6",
   "metadata": {},
   "outputs": [
    {
     "data": {
      "text/plain": [
       "<body>\n",
       "<h1>책 정보</h1>\n",
       "<p id=\"book_title\">토지</p>\n",
       "<p id=\"author\">박경리</p>\n",
       "<p id=\"book_title\">태백산맥</p>\n",
       "<p id=\"author\">조정래</p>\n",
       "<p id=\"book_title\">감옥으로부터의 사색</p>\n",
       "<p id=\"author\">신영복</p>\n",
       "</body>"
      ]
     },
     "execution_count": 22,
     "metadata": {},
     "output_type": "execute_result"
    }
   ],
   "source": [
    "soup2.body"
   ]
  },
  {
   "cell_type": "markdown",
   "id": "1f9912bc",
   "metadata": {},
   "source": [
    "#### - body 태그 요소 내에 h1 태그의 요소는 `BeautifulSoup.body.h1`으로 가져옴"
   ]
  },
  {
   "cell_type": "code",
   "execution_count": 23,
   "id": "65b87c60",
   "metadata": {},
   "outputs": [
    {
     "data": {
      "text/plain": [
       "<h1>책 정보</h1>"
      ]
     },
     "execution_count": 23,
     "metadata": {},
     "output_type": "execute_result"
    }
   ],
   "source": [
    "soup2.body.h1"
   ]
  },
  {
   "cell_type": "markdown",
   "id": "1610dee5",
   "metadata": {},
   "source": [
    "#### - `find_all()`을 이용\n",
    "#### - 변수 html2에 있는 HTML 소스코드에서 p태그가 들어 간 요소 모두 가져오기"
   ]
  },
  {
   "cell_type": "code",
   "execution_count": 25,
   "id": "7374190c",
   "metadata": {},
   "outputs": [
    {
     "data": {
      "text/plain": [
       "[<p id=\"book_title\">토지</p>,\n",
       " <p id=\"author\">박경리</p>,\n",
       " <p id=\"book_title\">태백산맥</p>,\n",
       " <p id=\"author\">조정래</p>,\n",
       " <p id=\"book_title\">감옥으로부터의 사색</p>,\n",
       " <p id=\"author\">신영복</p>]"
      ]
     },
     "execution_count": 25,
     "metadata": {},
     "output_type": "execute_result"
    }
   ],
   "source": [
    "soup2.find_all('p')"
   ]
  },
  {
   "cell_type": "markdown",
   "id": "41675614",
   "metadata": {},
   "source": [
    "#### - p 태그 중 책 제목과 작가를 분리해서 가져오기 위해 `find()`나 `find_all()` 이용\n",
    "#### - '태그'뿐 아니라 태그 내의 '속성'도 함께 지정\n",
    "#### - `BeautifulSoup.find_all('태그', '속성')`\n",
    "#### - `BeautifulSoup.find('태그', '속성')`"
   ]
  },
  {
   "cell_type": "markdown",
   "id": "2ba5807d",
   "metadata": {},
   "source": [
    "#### - html2에서 p 태그 요소 중 id가 book_title인 속성을 갖는 첫 번째 요소 return"
   ]
  },
  {
   "cell_type": "code",
   "execution_count": 26,
   "id": "f0e44349",
   "metadata": {},
   "outputs": [
    {
     "data": {
      "text/plain": [
       "<p id=\"book_title\">토지</p>"
      ]
     },
     "execution_count": 26,
     "metadata": {},
     "output_type": "execute_result"
    }
   ],
   "source": [
    "soup2.find('p',{'id':'book_title'})"
   ]
  },
  {
   "cell_type": "markdown",
   "id": "a5090ecb",
   "metadata": {},
   "source": [
    "#### - p태그 요소 중 id가 author인 속성을 갖는 첫 번째 요소 return"
   ]
  },
  {
   "cell_type": "code",
   "execution_count": 27,
   "id": "7b657731",
   "metadata": {},
   "outputs": [
    {
     "data": {
      "text/plain": [
       "<p id=\"author\">박경리</p>"
      ]
     },
     "execution_count": 27,
     "metadata": {},
     "output_type": "execute_result"
    }
   ],
   "source": [
    "soup2.find('p',{'id':'author'})"
   ]
  },
  {
   "cell_type": "markdown",
   "id": "657f87b0",
   "metadata": {},
   "source": [
    "#### - 조건을 만족하는 요소 전체 return"
   ]
  },
  {
   "cell_type": "code",
   "execution_count": 28,
   "id": "2900946d",
   "metadata": {},
   "outputs": [
    {
     "data": {
      "text/plain": [
       "[<p id=\"book_title\">토지</p>,\n",
       " <p id=\"book_title\">태백산맥</p>,\n",
       " <p id=\"book_title\">감옥으로부터의 사색</p>]"
      ]
     },
     "execution_count": 28,
     "metadata": {},
     "output_type": "execute_result"
    }
   ],
   "source": [
    "soup2.find_all('p', {'id':'book_title'})"
   ]
  },
  {
   "cell_type": "code",
   "execution_count": 29,
   "id": "6f450a23",
   "metadata": {},
   "outputs": [
    {
     "data": {
      "text/plain": [
       "[<p id=\"author\">박경리</p>, <p id=\"author\">조정래</p>, <p id=\"author\">신영복</p>]"
      ]
     },
     "execution_count": 29,
     "metadata": {},
     "output_type": "execute_result"
    }
   ],
   "source": [
    "soup2.find_all('p',{'id':'author'})"
   ]
  },
  {
   "cell_type": "markdown",
   "id": "94d0a157",
   "metadata": {},
   "source": [
    "#### - 책 제목과 작가를 포함한 요소를 추출한 후 텍스트만 가져오기"
   ]
  },
  {
   "cell_type": "code",
   "execution_count": 30,
   "id": "114cba8d",
   "metadata": {},
   "outputs": [
    {
     "name": "stdout",
     "output_type": "stream",
     "text": [
      "토지/박경리\n",
      "태백산맥/조정래\n",
      "감옥으로부터의 사색/신영복\n"
     ]
    }
   ],
   "source": [
    "from bs4 import BeautifulSoup\n",
    "\n",
    "soup2 = BeautifulSoup(html2, 'lxml')\n",
    "\n",
    "book_titles = soup2.find_all('p',{'id':'book_title'})\n",
    "authors = soup2.find_all('p', {'id':'author'})\n",
    "\n",
    "for book_title, author in zip(book_titles, authors):\n",
    "    print(book_title.get_text()+ '/' + author.get_text())"
   ]
  },
  {
   "cell_type": "markdown",
   "id": "1849d380",
   "metadata": {},
   "source": [
    "#### - CSS 선택자(selector)를 이용\n",
    "#### - CSS 선택자는 CSS에서 원하는 요소를 선택. 다른 프로그래밍 언어에서도 HTML 소스를 처리할 때 많이 이용\n",
    "\n",
    "#### - `BeautifulSoup.select('태그 및 속성')` : CSS 선택자를 지원\n",
    "#### - `BeautifulSoup.select()`인자로 '태그 및 속성'을 단계적으로 입력해서 원하는 요소 찾기"
   ]
  },
  {
   "cell_type": "markdown",
   "id": "5fa7cb41",
   "metadata": {},
   "source": [
    "#### - html2 변수에 할당된 HTML 소스에서 body 태그 내 h1 태그 요소 추출"
   ]
  },
  {
   "cell_type": "code",
   "execution_count": 31,
   "id": "810cbabe",
   "metadata": {},
   "outputs": [
    {
     "data": {
      "text/plain": [
       "[<h1>책 정보</h1>]"
      ]
     },
     "execution_count": 31,
     "metadata": {},
     "output_type": "execute_result"
    }
   ],
   "source": [
    "soup2.select('body h1')"
   ]
  },
  {
   "cell_type": "markdown",
   "id": "ee9f61bf",
   "metadata": {},
   "source": [
    "#### - body 요소 중 p 태그를 포함한 요소 모두 추출"
   ]
  },
  {
   "cell_type": "code",
   "execution_count": 32,
   "id": "024eb948",
   "metadata": {},
   "outputs": [
    {
     "data": {
      "text/plain": [
       "[<p id=\"book_title\">토지</p>,\n",
       " <p id=\"author\">박경리</p>,\n",
       " <p id=\"book_title\">태백산맥</p>,\n",
       " <p id=\"author\">조정래</p>,\n",
       " <p id=\"book_title\">감옥으로부터의 사색</p>,\n",
       " <p id=\"author\">신영복</p>]"
      ]
     },
     "execution_count": 32,
     "metadata": {},
     "output_type": "execute_result"
    }
   ],
   "source": [
    "soup2.select('body p')"
   ]
  },
  {
   "cell_type": "markdown",
   "id": "961b6d88",
   "metadata": {},
   "source": [
    "#### - p 태그는 body 태그 요소 내에만 있으므로 인자에 'p'만 입력해도 같은 결과 출력"
   ]
  },
  {
   "cell_type": "code",
   "execution_count": 33,
   "id": "f654686a",
   "metadata": {},
   "outputs": [
    {
     "data": {
      "text/plain": [
       "[<p id=\"book_title\">토지</p>,\n",
       " <p id=\"author\">박경리</p>,\n",
       " <p id=\"book_title\">태백산맥</p>,\n",
       " <p id=\"author\">조정래</p>,\n",
       " <p id=\"book_title\">감옥으로부터의 사색</p>,\n",
       " <p id=\"author\">신영복</p>]"
      ]
     },
     "execution_count": 33,
     "metadata": {},
     "output_type": "execute_result"
    }
   ],
   "source": [
    "soup2.select('p')"
   ]
  },
  {
   "cell_type": "markdown",
   "id": "edc1a23c",
   "metadata": {},
   "source": [
    "#### - 태그 안의 속성과 속성값을 이용해 요소를 세밀하게 구분해서 추출 가능\n",
    "#### - 태그 안의 속성이 class인 경우 `태그.class_속성값`으로 입력\n",
    "#### - 속성이 id인 경우 `태그#id_속성값`으로 입력\n"
   ]
  },
  {
   "cell_type": "markdown",
   "id": "ca2fd5bd",
   "metadata": {},
   "source": [
    "#### - p태그 안 속성이 id이므로 id가 book_title인 요소 추출하기"
   ]
  },
  {
   "cell_type": "code",
   "execution_count": 34,
   "id": "572072e4",
   "metadata": {},
   "outputs": [
    {
     "data": {
      "text/plain": [
       "[<p id=\"book_title\">토지</p>,\n",
       " <p id=\"book_title\">태백산맥</p>,\n",
       " <p id=\"book_title\">감옥으로부터의 사색</p>]"
      ]
     },
     "execution_count": 34,
     "metadata": {},
     "output_type": "execute_result"
    }
   ],
   "source": [
    "soup2.select('p#book_title')"
   ]
  },
  {
   "cell_type": "code",
   "execution_count": 35,
   "id": "6ecdc543",
   "metadata": {},
   "outputs": [
    {
     "data": {
      "text/plain": [
       "[<p id=\"author\">박경리</p>, <p id=\"author\">조정래</p>, <p id=\"author\">신영복</p>]"
      ]
     },
     "execution_count": 35,
     "metadata": {},
     "output_type": "execute_result"
    }
   ],
   "source": [
    "soup2.select('p#author')"
   ]
  },
  {
   "cell_type": "markdown",
   "id": "789b7ecc",
   "metadata": {},
   "source": [
    "#### - class 속성이 있는 HTML 소스 생성"
   ]
  },
  {
   "cell_type": "code",
   "execution_count": 36,
   "id": "d1e625c3",
   "metadata": {},
   "outputs": [
    {
     "name": "stdout",
     "output_type": "stream",
     "text": [
      "Writing c:/Web_Crawling/HTML_example_my_site.html\n"
     ]
    }
   ],
   "source": [
    "%%writefile c:/Web_Crawling/HTML_example_my_site.html\n",
    "<!doctype html>\n",
    "<html>\n",
    "<head>\n",
    "<meta charset = 'utf-8'>\n",
    "<title>사이트 모음</title>\n",
    "</head>\n",
    "<body>\n",
    "<p id = 'title'><b>자주 가는 사이트 모음</b></p>\n",
    "<p id = 'contents'>이곳은 자주 가는 사이트를 모아둔 곳입니다.</p>\n",
    "<a href = 'http://www.naver.com' class = 'portal' id = 'naver'>네이버</a><br>\n",
    "<a href = 'https://www.google.com' class = 'search' id = 'google'>구글</a><br>\n",
    "<a href = 'http://www.daum.net' class = 'portal' id = 'daum'>다음</a><br>\n",
    "<a href = 'http://www.nl.go.kr' class = 'government' id='nl'>국립중앙도서관</a>\n",
    "</body>\n",
    "</html>"
   ]
  },
  {
   "cell_type": "markdown",
   "id": "de5e2b8d",
   "metadata": {},
   "source": [
    "#### - 태그 안의 속성이 class인 경우\n",
    "#### - `태그.class_속성값`으로 원하는 요소를 추출\n",
    "#### - 파일 읽어와서 변수 html3에 할당"
   ]
  },
  {
   "cell_type": "code",
   "execution_count": 37,
   "id": "ae6b9c64",
   "metadata": {},
   "outputs": [],
   "source": [
    "f = open('C:/Web_Crawling/HTML_example_my_site.html', encoding = 'utf-8')\n",
    "\n",
    "html3 = f.read()\n",
    "f.close()\n",
    "\n",
    "soup3 = BeautifulSoup(html3, 'lxml')"
   ]
  },
  {
   "cell_type": "markdown",
   "id": "9420a920",
   "metadata": {},
   "source": [
    "#### - 읽어온 HTML 소스에서 태그가 a인 요소 모두 가져오기"
   ]
  },
  {
   "cell_type": "code",
   "execution_count": 38,
   "id": "7a5fa7c2",
   "metadata": {},
   "outputs": [
    {
     "data": {
      "text/plain": [
       "[<a class=\"portal\" href=\"http://www.naver.com\" id=\"naver\">네이버</a>,\n",
       " <a class=\"search\" href=\"https://www.google.com\" id=\"google\">구글</a>,\n",
       " <a class=\"portal\" href=\"http://www.daum.net\" id=\"daum\">다음</a>,\n",
       " <a class=\"government\" href=\"http://www.nl.go.kr\" id=\"nl\">국립중앙도서관</a>]"
      ]
     },
     "execution_count": 38,
     "metadata": {},
     "output_type": "execute_result"
    }
   ],
   "source": [
    "soup3.select('a')"
   ]
  },
  {
   "cell_type": "markdown",
   "id": "3e468a10",
   "metadata": {},
   "source": [
    "#### - HTML 소스에서 태그가 a이면서 class 속성값이 'portal'인 요소만 가져오기"
   ]
  },
  {
   "cell_type": "code",
   "execution_count": 39,
   "id": "e6a3f8f3",
   "metadata": {},
   "outputs": [
    {
     "data": {
      "text/plain": [
       "[<a class=\"portal\" href=\"http://www.naver.com\" id=\"naver\">네이버</a>,\n",
       " <a class=\"portal\" href=\"http://www.daum.net\" id=\"daum\">다음</a>]"
      ]
     },
     "execution_count": 39,
     "metadata": {},
     "output_type": "execute_result"
    }
   ],
   "source": [
    "soup3.select('a.portal')"
   ]
  },
  {
   "cell_type": "markdown",
   "id": "5ca32214",
   "metadata": {},
   "source": [
    "### 2) 웹 브라우저의 요소 검사\n",
    "\n",
    "#### - `soup3.select('html body a')`\n",
    "#### - `soup3.select('body a')`\n",
    "#### - `soup3.select('html a')`\n",
    "#### - `soup3.select('a')`"
   ]
  },
  {
   "cell_type": "markdown",
   "id": "23f98ac1",
   "metadata": {},
   "source": [
    "#### - HTML 소스에서 id 속성이 naver인 요소 선택"
   ]
  },
  {
   "cell_type": "code",
   "execution_count": 40,
   "id": "7f08e0f2",
   "metadata": {},
   "outputs": [
    {
     "data": {
      "text/plain": [
       "[<a class=\"portal\" href=\"http://www.naver.com\" id=\"naver\">네이버</a>]"
      ]
     },
     "execution_count": 40,
     "metadata": {},
     "output_type": "execute_result"
    }
   ],
   "source": [
    "soup3.select('a#naver')"
   ]
  },
  {
   "cell_type": "code",
   "execution_count": null,
   "id": "6d74d150",
   "metadata": {},
   "outputs": [],
   "source": []
  }
 ],
 "metadata": {
  "kernelspec": {
   "display_name": "Python 3",
   "language": "python",
   "name": "python3"
  },
  "language_info": {
   "codemirror_mode": {
    "name": "ipython",
    "version": 3
   },
   "file_extension": ".py",
   "mimetype": "text/x-python",
   "name": "python",
   "nbconvert_exporter": "python",
   "pygments_lexer": "ipython3",
   "version": "3.8.8"
  }
 },
 "nbformat": 4,
 "nbformat_minor": 5
}
