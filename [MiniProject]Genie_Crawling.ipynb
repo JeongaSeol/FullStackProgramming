{
 "cells": [
  {
   "cell_type": "markdown",
   "id": "b6f84d65",
   "metadata": {},
   "source": [
    "# Genie Crawling\n",
    "\n",
    "## 지니 크롤링 결과를 엑셀 파일로 저장\n",
    "\n",
    "### 지니 사이트 접속"
   ]
  },
  {
   "cell_type": "code",
   "execution_count": 4,
   "id": "ca596a99",
   "metadata": {},
   "outputs": [],
   "source": [
    "from selenium import webdriver\n",
    "from bs4 import BeautifulSoup\n",
    "import pandas as pd\n",
    "\n",
    "driver = webdriver.Chrome('C:/Web_Crawling/chromedriver/chromedriver.exe')\n",
    "url = 'https://genie.co.kr/chart/top200'\n",
    "driver.get(url)\n",
    "\n",
    "html = driver.page_source\n",
    "soup = BeautifulSoup(html, 'html.parser')"
   ]
  },
  {
   "cell_type": "markdown",
   "id": "d97b7bad",
   "metadata": {},
   "source": [
    "### 반복문을 이용하여 곡명, 가수명을 song_data에 저장"
   ]
  },
  {
   "cell_type": "code",
   "execution_count": 6,
   "id": "bbce1e5f",
   "metadata": {},
   "outputs": [
    {
     "data": {
      "text/html": [
       "<div>\n",
       "<style scoped>\n",
       "    .dataframe tbody tr th:only-of-type {\n",
       "        vertical-align: middle;\n",
       "    }\n",
       "\n",
       "    .dataframe tbody tr th {\n",
       "        vertical-align: top;\n",
       "    }\n",
       "\n",
       "    .dataframe thead th {\n",
       "        text-align: right;\n",
       "    }\n",
       "</style>\n",
       "<table border=\"1\" class=\"dataframe\">\n",
       "  <thead>\n",
       "    <tr style=\"text-align: right;\">\n",
       "      <th></th>\n",
       "      <th>Service</th>\n",
       "      <th>Rank</th>\n",
       "      <th>Title</th>\n",
       "      <th>Singer</th>\n",
       "    </tr>\n",
       "  </thead>\n",
       "  <tbody>\n",
       "    <tr>\n",
       "      <th>0</th>\n",
       "      <td>Genie</td>\n",
       "      <td>1</td>\n",
       "      <td>신호등</td>\n",
       "      <td>이무진</td>\n",
       "    </tr>\n",
       "    <tr>\n",
       "      <th>1</th>\n",
       "      <td>Genie</td>\n",
       "      <td>2</td>\n",
       "      <td>Queendom</td>\n",
       "      <td>Red Velvet (레드벨벳)</td>\n",
       "    </tr>\n",
       "    <tr>\n",
       "      <th>2</th>\n",
       "      <td>Genie</td>\n",
       "      <td>3</td>\n",
       "      <td>낙하 (With 아이유)</td>\n",
       "      <td>AKMU (악뮤)</td>\n",
       "    </tr>\n",
       "    <tr>\n",
       "      <th>3</th>\n",
       "      <td>Genie</td>\n",
       "      <td>4</td>\n",
       "      <td>바라만 본다</td>\n",
       "      <td>MSG워너비 (M.O.M)</td>\n",
       "    </tr>\n",
       "    <tr>\n",
       "      <th>4</th>\n",
       "      <td>Genie</td>\n",
       "      <td>5</td>\n",
       "      <td>Weekend</td>\n",
       "      <td>태연 (TAEYEON)</td>\n",
       "    </tr>\n",
       "  </tbody>\n",
       "</table>\n",
       "</div>"
      ],
      "text/plain": [
       "  Service  Rank          Title             Singer\n",
       "0   Genie     1            신호등                이무진\n",
       "1   Genie     2       Queendom  Red Velvet (레드벨벳)\n",
       "2   Genie     3  낙하 (With 아이유)          AKMU (악뮤)\n",
       "3   Genie     4         바라만 본다     MSG워너비 (M.O.M)\n",
       "4   Genie     5        Weekend       태연 (TAEYEON)"
      ]
     },
     "execution_count": 6,
     "metadata": {},
     "output_type": "execute_result"
    }
   ],
   "source": [
    "song_data = []\n",
    "rank = 1\n",
    "songs = soup.select('table>tbody>tr')\n",
    "\n",
    "for song in songs:\n",
    "    title = song.select('a.title')[0].text.strip()\n",
    "    singer = song.select('a.artist')[0].text.strip()\n",
    "    song_data.append(['Genie', rank, title, singer])\n",
    "    rank = rank + 1\n",
    "\n",
    "columns = ['Service', 'Rank', 'Title', 'Singer']\n",
    "pd_data = pd.DataFrame(song_data, columns = columns)\n",
    "pd_data.to_excel('C:/Web_Crawling/MiniProject/Genie.xlsx', index = False)\n",
    "pd_data.head()"
   ]
  },
  {
   "cell_type": "code",
   "execution_count": null,
   "id": "4fd4fb17",
   "metadata": {},
   "outputs": [],
   "source": []
  }
 ],
 "metadata": {
  "kernelspec": {
   "display_name": "Python 3",
   "language": "python",
   "name": "python3"
  },
  "language_info": {
   "codemirror_mode": {
    "name": "ipython",
    "version": 3
   },
   "file_extension": ".py",
   "mimetype": "text/x-python",
   "name": "python",
   "nbconvert_exporter": "python",
   "pygments_lexer": "ipython3",
   "version": "3.8.8"
  }
 },
 "nbformat": 4,
 "nbformat_minor": 5
}
