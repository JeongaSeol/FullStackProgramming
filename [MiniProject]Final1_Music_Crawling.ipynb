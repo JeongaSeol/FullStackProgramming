{
 "cells": [
  {
   "cell_type": "markdown",
   "id": "38b7b2ad",
   "metadata": {},
   "source": [
    "# 엑셀 파일 통합하기\n",
    "\n",
    "## 멜론, 벅스, 지니 크롤링 결과가 저장된 엑셀파일을 통합"
   ]
  },
  {
   "cell_type": "code",
   "execution_count": 1,
   "id": "19c6becb",
   "metadata": {},
   "outputs": [],
   "source": [
    "import pandas as pd\n",
    "\n",
    "excel_names = ['C:/Web_Crawling/MiniProject/melon.xlsx', 'C:/Web_Crawling/MiniProject/Bugs.xlsx', 'C:/Web_Crawling/MiniProject/Genie.xlsx']\n",
    "\n",
    "appended_data = pd.DataFrame()\n",
    "for name in excel_names:\n",
    "    pd_data = pd.read_excel(name)\n",
    "    appended_data = appended_data.append(pd_data)"
   ]
  },
  {
   "cell_type": "markdown",
   "id": "fe774969",
   "metadata": {},
   "source": [
    "## 크롤링 결과 최종 확인"
   ]
  },
  {
   "cell_type": "code",
   "execution_count": 2,
   "id": "740cff6b",
   "metadata": {},
   "outputs": [
    {
     "name": "stdout",
     "output_type": "stream",
     "text": [
      "<class 'pandas.core.frame.DataFrame'>\n",
      "Int64Index: 250 entries, 0 to 49\n",
      "Data columns (total 4 columns):\n",
      " #   Column   Non-Null Count  Dtype \n",
      "---  ------   --------------  ----- \n",
      " 0   Service  250 non-null    object\n",
      " 1   Rank     250 non-null    int64 \n",
      " 2   Title    250 non-null    object\n",
      " 3   Singer   250 non-null    object\n",
      "dtypes: int64(1), object(3)\n",
      "memory usage: 9.8+ KB\n"
     ]
    }
   ],
   "source": [
    "appended_data.info()"
   ]
  },
  {
   "cell_type": "markdown",
   "id": "82fc057f",
   "metadata": {},
   "source": [
    "## 통합한 크롤링 결과를 하나의 엑셀 파일로 저장"
   ]
  },
  {
   "cell_type": "code",
   "execution_count": 4,
   "id": "71e90214",
   "metadata": {},
   "outputs": [],
   "source": [
    "appended_data.to_excel(\"C:/Web_Crawling/MiniProject/Mini_Project_01_Music_Crawling.xlsx\", index=False)"
   ]
  },
  {
   "cell_type": "code",
   "execution_count": null,
   "id": "40b2608b",
   "metadata": {},
   "outputs": [],
   "source": []
  }
 ],
 "metadata": {
  "kernelspec": {
   "display_name": "Python 3",
   "language": "python",
   "name": "python3"
  },
  "language_info": {
   "codemirror_mode": {
    "name": "ipython",
    "version": 3
   },
   "file_extension": ".py",
   "mimetype": "text/x-python",
   "name": "python",
   "nbconvert_exporter": "python",
   "pygments_lexer": "ipython3",
   "version": "3.8.8"
  }
 },
 "nbformat": 4,
 "nbformat_minor": 5
}
