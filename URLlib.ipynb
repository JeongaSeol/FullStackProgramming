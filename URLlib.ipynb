{
 "cells": [
  {
   "cell_type": "markdown",
   "id": "a61476cc",
   "metadata": {},
   "source": [
    "# URLlib 사용법 및 기본 Scraping"
   ]
  },
  {
   "cell_type": "code",
   "execution_count": 1,
   "id": "f443afc8",
   "metadata": {},
   "outputs": [],
   "source": [
    "import urllib.request as req"
   ]
  },
  {
   "cell_type": "code",
   "execution_count": 2,
   "id": "a65520a8",
   "metadata": {},
   "outputs": [],
   "source": [
    "# 파일 URL\n",
    "\n",
    "img_url = \"http://post.phinf.naver.net/20160621_169/1466482468068lmSHj_JPEG/If7GeIbOPZuYwI-GI3xU7ENRrlfI.jpg\"\n",
    "html_url = 'http://www.google.com'"
   ]
  },
  {
   "cell_type": "code",
   "execution_count": 3,
   "id": "86454a27",
   "metadata": {},
   "outputs": [],
   "source": [
    "# 다운 받을 경로\n",
    "save_path1 = \"C:\\\\Web_Crawling\\\\test1.jpg\"\n",
    "save_path2 = \"C:\\\\Web_Crawling\\\\index.html\""
   ]
  },
  {
   "cell_type": "code",
   "execution_count": 6,
   "id": "c5f5224e",
   "metadata": {},
   "outputs": [
    {
     "name": "stdout",
     "output_type": "stream",
     "text": [
      "Date: Wed, 18 Aug 2021 05:31:49 GMT\n",
      "Accept-Ranges: bytes\n",
      "Cache-Control: max-age=15552000\n",
      "Content-Length: 797094\n",
      "Content-Type: image/jpeg\n",
      "Last-Modified: Wed, 18 Aug 2021 04:15:01 GMT\n",
      "p3p: CP=\"ALL CURa ADMa DEVa TAIa OUR BUS IND PHY ONL UNI PUR FIN COM NAV INT DEM CNT STA POL HEA PRE LOC OTC\"\n",
      "Age: 4609\n",
      "Expires: Mon, 14 Feb 2022 04:15:01 GMT\n",
      "Connection: close\n",
      "\n",
      "\n",
      "Date: Wed, 18 Aug 2021 05:31:51 GMT\n",
      "Expires: -1\n",
      "Cache-Control: private, max-age=0\n",
      "Content-Type: text/html; charset=ISO-8859-1\n",
      "P3P: CP=\"This is not a P3P policy! See g.co/p3phelp for more info.\"\n",
      "Server: gws\n",
      "X-XSS-Protection: 0\n",
      "X-Frame-Options: SAMEORIGIN\n",
      "Set-Cookie: 1P_JAR=2021-08-18-05; expires=Fri, 17-Sep-2021 05:31:51 GMT; path=/; domain=.google.com; Secure\n",
      "Set-Cookie: NID=221=VvI4h_7J_DefZoQOshp1M_gr5x2CUt_Y891st6nQtzvdw1g5v9oZQjSouHiQDv1qAkgwu8IJHS0yzp4YyJcz0BEfN8rIIt2RqZ3kxBwlhNcn2DWKYXzEJYwjU3vn4jYYt15YN3fEdN0rAsFclhYa7ov5LwOC0SjbBARxhcWnRNs; expires=Thu, 17-Feb-2022 05:31:51 GMT; path=/; domain=.google.com; HttpOnly\n",
      "Accept-Ranges: none\n",
      "Vary: Accept-Encoding\n",
      "Connection: close\n",
      "Transfer-Encoding: chunked\n",
      "\n",
      "\n"
     ]
    }
   ],
   "source": [
    "# 예외 처리\n",
    "try:\n",
    "    file1,header1 = req.urlretrieve(img_url, save_path1)\n",
    "    file2,header2 = req.urlretrieve(html_url, save_path2)\n",
    "except Exception as e:\n",
    "    print('Download failed')\n",
    "    print(e)\n",
    "else:\n",
    "    # Header 정보 출력\n",
    "    print(header1)\n",
    "    print(header2)"
   ]
  },
  {
   "cell_type": "code",
   "execution_count": 7,
   "id": "0656c9e0",
   "metadata": {},
   "outputs": [
    {
     "name": "stdout",
     "output_type": "stream",
     "text": [
      "Filename1 C:\\Web_Crawling\\test1.jpg\n",
      "Filename2 C:\\Web_Crawling\\index.html\n",
      "\n"
     ]
    }
   ],
   "source": [
    "# 다운로드 파일 정보\n",
    "print(\"Filename1 {}\".format(file1))\n",
    "print(\"Filename2 {}\".format(file2))\n",
    "print()"
   ]
  },
  {
   "cell_type": "code",
   "execution_count": 8,
   "id": "d04b36b2",
   "metadata": {},
   "outputs": [
    {
     "name": "stdout",
     "output_type": "stream",
     "text": [
      "Download Succeed\n"
     ]
    }
   ],
   "source": [
    "# 성공\n",
    "print(\"Download Succeed\")"
   ]
  },
  {
   "cell_type": "code",
   "execution_count": null,
   "id": "c8a32596",
   "metadata": {},
   "outputs": [],
   "source": []
  }
 ],
 "metadata": {
  "kernelspec": {
   "display_name": "Python 3",
   "language": "python",
   "name": "python3"
  },
  "language_info": {
   "codemirror_mode": {
    "name": "ipython",
    "version": 3
   },
   "file_extension": ".py",
   "mimetype": "text/x-python",
   "name": "python",
   "nbconvert_exporter": "python",
   "pygments_lexer": "ipython3",
   "version": "3.8.8"
  }
 },
 "nbformat": 4,
 "nbformat_minor": 5
}
