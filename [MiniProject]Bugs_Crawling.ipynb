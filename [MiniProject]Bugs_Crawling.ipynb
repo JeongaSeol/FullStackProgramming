{
 "cells": [
  {
   "cell_type": "markdown",
   "id": "eb325081",
   "metadata": {},
   "source": [
    "# Bugs Crawling\n",
    "\n",
    "## 벅스 크롤링 결과를 엑셀파일로 저장\n",
    "\n",
    "### 벅스 사이트 접속"
   ]
  },
  {
   "cell_type": "code",
   "execution_count": 5,
   "id": "1722ec5d",
   "metadata": {},
   "outputs": [],
   "source": [
    "from selenium import webdriver\n",
    "from bs4 import BeautifulSoup\n",
    "\n",
    "driver = webdriver.Chrome('C:/Web_Crawling/chromedriver/chromedriver.exe')\n",
    "url = 'https://music.bugs.co.kr/chart'\n",
    "driver.get(url)\n",
    "\n",
    "html = driver.page_source\n",
    "soup = BeautifulSoup(html, 'html.parser')"
   ]
  },
  {
   "cell_type": "markdown",
   "id": "47d1cd07",
   "metadata": {},
   "source": [
    "### 곡과 가수명을 song_data에 저장"
   ]
  },
  {
   "cell_type": "code",
   "execution_count": 6,
   "id": "bce8f1d0",
   "metadata": {},
   "outputs": [],
   "source": [
    "song_data = []\n",
    "songs = soup.select('table.byChart>tbody>tr')\n",
    "rank = 1\n",
    "\n",
    "for song in songs:\n",
    "    title = song.select('p.title>a')[0].text\n",
    "    singer = song.select('p.artist>a')[0].text\n",
    "    song_data.append(['Bugs', rank, title, singer])\n",
    "    rank = rank + 1"
   ]
  },
  {
   "cell_type": "markdown",
   "id": "0130238e",
   "metadata": {},
   "source": [
    "### song_data를 Data Frame로 생성"
   ]
  },
  {
   "cell_type": "code",
   "execution_count": 7,
   "id": "d3bf2604",
   "metadata": {},
   "outputs": [
    {
     "data": {
      "text/html": [
       "<div>\n",
       "<style scoped>\n",
       "    .dataframe tbody tr th:only-of-type {\n",
       "        vertical-align: middle;\n",
       "    }\n",
       "\n",
       "    .dataframe tbody tr th {\n",
       "        vertical-align: top;\n",
       "    }\n",
       "\n",
       "    .dataframe thead th {\n",
       "        text-align: right;\n",
       "    }\n",
       "</style>\n",
       "<table border=\"1\" class=\"dataframe\">\n",
       "  <thead>\n",
       "    <tr style=\"text-align: right;\">\n",
       "      <th></th>\n",
       "      <th>Service</th>\n",
       "      <th>Rank</th>\n",
       "      <th>Title</th>\n",
       "      <th>Singer</th>\n",
       "    </tr>\n",
       "  </thead>\n",
       "  <tbody>\n",
       "    <tr>\n",
       "      <th>0</th>\n",
       "      <td>Bugs</td>\n",
       "      <td>1</td>\n",
       "      <td>회상</td>\n",
       "      <td>정경호</td>\n",
       "    </tr>\n",
       "    <tr>\n",
       "      <th>1</th>\n",
       "      <td>Bugs</td>\n",
       "      <td>2</td>\n",
       "      <td>Queendom</td>\n",
       "      <td>Red Velvet (레드벨벳)</td>\n",
       "    </tr>\n",
       "    <tr>\n",
       "      <th>2</th>\n",
       "      <td>Bugs</td>\n",
       "      <td>3</td>\n",
       "      <td>DUMB DUMB</td>\n",
       "      <td>전소미</td>\n",
       "    </tr>\n",
       "    <tr>\n",
       "      <th>3</th>\n",
       "      <td>Bugs</td>\n",
       "      <td>4</td>\n",
       "      <td>STAY</td>\n",
       "      <td>The Kid LAROI</td>\n",
       "    </tr>\n",
       "    <tr>\n",
       "      <th>4</th>\n",
       "      <td>Bugs</td>\n",
       "      <td>5</td>\n",
       "      <td>낙하 (with 아이유)</td>\n",
       "      <td>AKMU(악뮤)</td>\n",
       "    </tr>\n",
       "  </tbody>\n",
       "</table>\n",
       "</div>"
      ],
      "text/plain": [
       "  Service  Rank          Title             Singer\n",
       "0    Bugs     1             회상                정경호\n",
       "1    Bugs     2       Queendom  Red Velvet (레드벨벳)\n",
       "2    Bugs     3      DUMB DUMB                전소미\n",
       "3    Bugs     4           STAY      The Kid LAROI\n",
       "4    Bugs     5  낙하 (with 아이유)           AKMU(악뮤)"
      ]
     },
     "execution_count": 7,
     "metadata": {},
     "output_type": "execute_result"
    }
   ],
   "source": [
    "import pandas as pd\n",
    "\n",
    "columns = ['Service', 'Rank', 'Title', 'Singer']\n",
    "pd_data = pd.DataFrame(song_data, columns = columns)\n",
    "pd_data.head()"
   ]
  },
  {
   "cell_type": "markdown",
   "id": "d21f411b",
   "metadata": {},
   "source": [
    "### 엑셀파일로 저장"
   ]
  },
  {
   "cell_type": "code",
   "execution_count": 8,
   "id": "67c7fc79",
   "metadata": {},
   "outputs": [],
   "source": [
    "pd_data.to_excel('C:/Web_Crawling/MiniProject/Bugs.xlsx', index = False)"
   ]
  },
  {
   "cell_type": "code",
   "execution_count": null,
   "id": "ad9d8f3e",
   "metadata": {},
   "outputs": [],
   "source": []
  }
 ],
 "metadata": {
  "kernelspec": {
   "display_name": "Python 3",
   "language": "python",
   "name": "python3"
  },
  "language_info": {
   "codemirror_mode": {
    "name": "ipython",
    "version": 3
   },
   "file_extension": ".py",
   "mimetype": "text/x-python",
   "name": "python",
   "nbconvert_exporter": "python",
   "pygments_lexer": "ipython3",
   "version": "3.8.8"
  }
 },
 "nbformat": 4,
 "nbformat_minor": 5
}
